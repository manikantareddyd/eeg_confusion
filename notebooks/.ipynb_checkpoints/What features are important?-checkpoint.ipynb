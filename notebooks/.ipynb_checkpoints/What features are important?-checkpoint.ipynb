{
 "cells": [
  {
   "cell_type": "markdown",
   "metadata": {},
   "source": [
    "I was wondering what kind of features should be used to model this problem. I was more inclined towards keeping only the eeg data and neglect everyhting else. So I wanted to check it the other features have any effect on prediction? "
   ]
  },
  {
   "cell_type": "markdown",
   "metadata": {},
   "source": [
    "Load the Data"
   ]
  },
  {
   "cell_type": "code",
   "execution_count": 8,
   "metadata": {
    "collapsed": false
   },
   "outputs": [],
   "source": [
    "from numpy import genfromtxt\n",
    "EEG = genfromtxt(\"../../data/EEG data.csv\", delimiter=\",\")"
   ]
  },
  {
   "cell_type": "markdown",
   "metadata": {},
   "source": [
    "Now we'll write a function to help us generate test, train data with columns(features) of our choice and train a Random Forest Classifier\n",
    "\n",
    "We remove the last column by default as it is the output."
   ]
  },
  {
   "cell_type": "code",
   "execution_count": 9,
   "metadata": {
    "collapsed": true
   },
   "outputs": [],
   "source": [
    "import numpy as np\n",
    "from sklearn.model_selection import train_test_split\n",
    "from sklearn.ensemble import RandomForestClassifier\n",
    "\n",
    "def run_experiment(removal):\n",
    "    X = np.delete(EEG, list(set(removal+[14])), axis=1)\n",
    "    y = EEG[:, [14]]\n",
    "    y = y.reshape(12811, )\n",
    "    X_train, X_test, y_train, y_test = train_test_split(\n",
    "        X, y, test_size=0.33, random_state=42\n",
    "        )\n",
    "    rfc = RandomForestClassifier(n_estimators=10)\n",
    "    rfc.fit(X_train, y_train)\n",
    "    print(rfc.score(X_test, y_test))\n"
   ]
  },
  {
   "cell_type": "markdown",
   "metadata": {},
   "source": [
    "Lets remove all columns except \n",
    "Subject Id and Video Id.\n",
    "\n",
    "As you'll see this is surprisingly accurate enough! (accurate is an understatement)\n"
   ]
  },
  {
   "cell_type": "code",
   "execution_count": 10,
   "metadata": {
    "collapsed": false
   },
   "outputs": [
    {
     "name": "stdout",
     "output_type": "stream",
     "text": [
      "1.0\n"
     ]
    }
   ],
   "source": [
    "removal = [2,3,4,5,6,7,8,9,10,11,12,13]\n",
    "run_experiment(removal)"
   ]
  },
  {
   "cell_type": "markdown",
   "metadata": {},
   "source": [
    "Now lets keep only the subjectId"
   ]
  },
  {
   "cell_type": "code",
   "execution_count": 11,
   "metadata": {
    "collapsed": false
   },
   "outputs": [
    {
     "name": "stdout",
     "output_type": "stream",
     "text": [
      "0.542100283822\n"
     ]
    }
   ],
   "source": [
    "removal = [1,2,3,4,5,6,7,8,9,10,11,12,13]\n",
    "run_experiment(removal)"
   ]
  },
  {
   "cell_type": "markdown",
   "metadata": {},
   "source": [
    "Now lets keep only the videoId"
   ]
  },
  {
   "cell_type": "code",
   "execution_count": 12,
   "metadata": {
    "collapsed": false
   },
   "outputs": [
    {
     "name": "stdout",
     "output_type": "stream",
     "text": [
      "0.640018921476\n"
     ]
    }
   ],
   "source": [
    "removal = [0,2,3,4,5,6,7,8,9,10,11,12,13]\n",
    "run_experiment(removal)"
   ]
  },
  {
   "cell_type": "markdown",
   "metadata": {},
   "source": [
    "Interesting! This shows that there is relation between the video and subject in the experiment. The way different subject get confused by different video clips is also to be considered. "
   ]
  },
  {
   "cell_type": "markdown",
   "metadata": {},
   "source": [
    "PS: This is my first notebook here. I would love to have some comments."
   ]
  }
 ],
 "metadata": {
  "kernelspec": {
   "display_name": "Python 3",
   "language": "python",
   "name": "python3"
  },
  "language_info": {
   "codemirror_mode": {
    "name": "ipython",
    "version": 3
   },
   "file_extension": ".py",
   "mimetype": "text/x-python",
   "name": "python",
   "nbconvert_exporter": "python",
   "pygments_lexer": "ipython3",
   "version": "3.5.2"
  }
 },
 "nbformat": 4,
 "nbformat_minor": 2
}
